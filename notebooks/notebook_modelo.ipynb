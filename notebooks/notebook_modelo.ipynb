{
 "cells": [
  {
   "cell_type": "markdown",
   "metadata": {},
   "source": [
    "### Biliotecas"
   ]
  },
  {
   "cell_type": "code",
   "execution_count": null,
   "metadata": {},
   "outputs": [],
   "source": [
    "! pip install pandas\n",
    "! pip install numpy\n",
    "! pip install scikit-learn"
   ]
  },
  {
   "cell_type": "code",
   "execution_count": null,
   "metadata": {},
   "outputs": [],
   "source": [
    "#Bibliotecas para Manipulação e Acesso dos Dados\n",
    "import pandas as pd\n",
    "import numpy as np\n",
    "\n",
    "#Bibliotecas para Métricas\n",
    "from sklearn.model_selection import train_test_split\n",
    "from sklearn.metrics import mean_squared_error, r2_score\n",
    "\n",
    "#Biblioteca para o Modelo\n",
    "from statsmodels.tsa.statespace.sarimax import SARIMAX\n",
    "\n",
    "#Bibliotecas para Interface\n",
    "import matplotlib.pyplot as plt\n",
    "import ipywidgets as widgets\n",
    "from IPython.display import display"
   ]
  },
  {
   "cell_type": "markdown",
   "metadata": {},
   "source": [
    "## Modelo SARIMAX Geral\n",
    "\n",
    "O modelo SARIMAX é um modelo para previsões em séries temporais, combinando autoregressão, média móvel e diferenciação sazonal. Ele se destaca por lidar bem com dados que possuem tendências, sazonalidades e fatores externos, tornando-o ideal para prever receitas financeiras. Além de capturar padrões temporais complexos, o SARIMAX também pode incorporar variáveis externas que afetam o comportamento da receita, permitindo previsões mais precisas e ajustadas ao contexto do negócio."
   ]
  },
  {
   "cell_type": "markdown",
   "metadata": {},
   "source": [
    "### Carregamento de Dados"
   ]
  },
  {
   "cell_type": "code",
   "execution_count": null,
   "metadata": {},
   "outputs": [],
   "source": [
    "df = pd.read_excel('/content/tabela_data_sarimax.xlsx')"
   ]
  },
  {
   "cell_type": "markdown",
   "metadata": {},
   "source": [
    "### Limpeza de Dados"
   ]
  },
  {
   "cell_type": "code",
   "execution_count": null,
   "metadata": {},
   "outputs": [],
   "source": [
    "#Converte a coluna que têm vírgulas para o formato correto\n",
    "df.loc[:,'Taxa_Ac._TRI_%_PIB'] = df['Taxa_Ac._TRI_%_PIB'].str.replace(',', '.').astype(float)\n",
    "\n",
    "#Preenche as células vásias com a média\n",
    "df['Vl_Liquido_Final'] = df['Vl_Liquido_Final'].fillna(df['Vl_Liquido_Final'].mean())\n",
    "df['IPCA_ES'] = df['IPCA_ES'].fillna(df['IPCA_ES'].mean())\n",
    "df['IPCA_BR'] = df['IPCA_BR'].fillna(df['IPCA_BR'].mean())\n",
    "df['Taxa_Ac._TRI_%_PIB'] = df['Taxa_Ac._TRI_%_PIB'].fillna(df['Taxa_Ac._TRI_%_PIB'].mean())\n",
    "\n",
    "#Converta as colunas para o tipo numérico\n",
    "df['Vl_Liquido_Final'] = pd.to_numeric(df['Vl_Liquido_Final'], errors='coerce')\n",
    "df['IPCA_ES'] = pd.to_numeric(df['IPCA_ES'], errors='coerce')\n",
    "df['IPCA_BR'] = pd.to_numeric(df['IPCA_BR'], errors='coerce')\n",
    "df['Taxa_Ac._TRI_%_PIB'] = pd.to_numeric(df['Taxa_Ac._TRI_%_PIB'], errors='coerce')\n",
    "\n",
    "#Converte as colunas de data para o formato de data\n",
    "df['data'] = pd.to_datetime(df['data'])\n",
    "df.set_index('data', inplace=True)"
   ]
  },
  {
   "cell_type": "markdown",
   "metadata": {},
   "source": [
    "### Seleção de Váriaveis"
   ]
  },
  {
   "cell_type": "code",
   "execution_count": null,
   "metadata": {},
   "outputs": [],
   "source": [
    "#Variáveis de treinamento e Variável Alvo \n",
    "X = df[['IPCA_ES', 'IPCA_BR', 'Taxa_Ac._TRI_%_PIB']]\n",
    "y = df['Vl_Liquido_Final']\n",
    "\n",
    "#Separar os dados em treino e teste\n",
    "X_train, X_test, y_train, y_test = train_test_split(X, y, test_size=0.2, random_state=42, shuffle=False)"
   ]
  },
  {
   "cell_type": "markdown",
   "metadata": {},
   "source": [
    "### Modelagem com SARIMAX"
   ]
  },
  {
   "cell_type": "code",
   "execution_count": null,
   "metadata": {},
   "outputs": [],
   "source": [
    "#Ajustar o modelo\n",
    "order = (1, 1, 1)\n",
    "seasonal_order = (1, 1, 1, 12)  #Sazonalidade mensal\n",
    "model = SARIMAX(y_train, exog=X_train, order=order, seasonal_order=seasonal_order)\n",
    "model_fit = model.fit(disp=False)\n",
    "\n",
    "#Fazer previsões\n",
    "y_pred = model_fit.predict(start=len(y_train), end=len(y_train) + len(y_test) - 1, exog=X_test)\n",
    "\n",
    "#Métricas do modelo\n",
    "mse = mean_squared_error(y_test, y_pred)\n",
    "mae = mean_absolute_error(y_test, y_pred)\n",
    "r2 = r2_score(y_test, y_pred)\n",
    "smape = np.mean(2 * np.abs(y_pred - y_test) / (np.abs(y_pred) + np.abs(y_test))) * 100\n",
    "\n",
    "#Exibir as métricas\n",
    "print(f'MSE: {mse}')\n",
    "print(f'MAE: {mae}')\n",
    "print(f'R²: {r2}')\n",
    "print(f'SMAPE: {smape}')\n",
    "\n",
    "#Previsões para o próximo ano\n",
    "n_months = 12\n",
    "future_dates = pd.date_range(start=df.index[-1] + pd.DateOffset(months=1), periods=n_months, freq='ME')\n",
    "future_X = pd.DataFrame(index=future_dates)\n",
    "\n",
    "# Preencher as variáveis de treinamento futuras com base na média dos dados passados\n",
    "for col in X.columns:\n",
    "    future_X[col] = X[col].mean()\n",
    "\n",
    "#Fazer mais previsões futuras\n",
    "future_predictions = model_fit.predict(start=len(y_train), end=len(y_train) + n_months - 1, exog=future_X)\n",
    "\n",
    "print(\"Previsões futuras para o próximo ano:\")\n",
    "print(future_predictions)"
   ]
  },
  {
   "cell_type": "markdown",
   "metadata": {},
   "source": [
    "## Interface"
   ]
  },
  {
   "cell_type": "markdown",
   "metadata": {},
   "source": [
    "### Simulação de Modelo"
   ]
  },
  {
   "cell_type": "code",
   "execution_count": null,
   "metadata": {},
   "outputs": [],
   "source": [
    "#Simulando um modelo preditivo\n",
    "def modelo_preditivo(veiculo):\n",
    "    #Simulação para os próximos 12 meses\n",
    "    np.random.seed(42)\n",
    "    receitas = np.random.uniform(50000, 150000, size=12)\n",
    "    return receitas"
   ]
  },
  {
   "cell_type": "markdown",
   "metadata": {},
   "source": [
    "### Gerar a predição a partir do Modelo"
   ]
  },
  {
   "cell_type": "code",
   "execution_count": null,
   "metadata": {},
   "outputs": [],
   "source": [
    "#Gerar a previsão e mostrar os dados futuros\n",
    "def fazer_previsao(veiculo):\n",
    "    receitas = modelo_preditivo(veiculo)\n",
    "    meses = ['Jan', 'Feb', 'Mar', 'Apr', 'May', 'Jun', 'Jul', 'Aug', 'Sep', 'Oct', 'Nov', 'Dec']\n",
    "\n",
    "    #Plotar o gráfico de receitas\n",
    "    plt.figure(figsize=(10, 6))\n",
    "    plt.plot(meses, receitas, marker='o')\n",
    "    plt.title(f'Previsão de Receita para o Veículo: {veiculo}')\n",
    "    plt.xlabel('Meses')\n",
    "    plt.ylabel('Receita (R$)')\n",
    "    plt.grid(True)\n",
    "    plt.show()\n",
    "\n",
    "    #Mostrar as previsões em texto\n",
    "    print(f\"Previsão de Receita Detalhada para o Veículo: {veiculo}\")\n",
    "    for i, receita in enumerate(receitas):\n",
    "        print(f\"Mês {i+1} ({meses[i]}): R$ {receita:,.2f}\")"
   ]
  },
  {
   "cell_type": "markdown",
   "metadata": {},
   "source": [
    "### Interface"
   ]
  },
  {
   "cell_type": "markdown",
   "metadata": {},
   "source": [
    "#### Seletor de UEN"
   ]
  },
  {
   "cell_type": "code",
   "execution_count": null,
   "metadata": {},
   "outputs": [],
   "source": [
    "veiculos = ['TV', 'Rádio', 'Jornal', 'Online']\n",
    "seletor_veiculo = widgets.Dropdown(\n",
    "    options=veiculos,\n",
    "    value='TV',\n",
    "    description='Veículo:',\n",
    ")"
   ]
  },
  {
   "cell_type": "markdown",
   "metadata": {},
   "source": [
    "#### Botão"
   ]
  },
  {
   "cell_type": "code",
   "execution_count": null,
   "metadata": {},
   "outputs": [],
   "source": [
    "botao_previsao = widgets.Button(description=\"Fazer Previsão\")\n",
    "\n",
    "def ao_clicar_botao(b):\n",
    "    veiculo_escolhido = seletor_veiculo.value\n",
    "    fazer_previsao(veiculo_escolhido)\n",
    "\n",
    "botao_previsao.on_click(ao_clicar_botao)"
   ]
  },
  {
   "cell_type": "markdown",
   "metadata": {},
   "source": [
    "#### Display"
   ]
  },
  {
   "cell_type": "code",
   "execution_count": null,
   "metadata": {},
   "outputs": [],
   "source": [
    "display(seletor_veiculo, botao_previsao)"
   ]
  }
 ],
 "metadata": {
  "language_info": {
   "name": "python"
  }
 },
 "nbformat": 4,
 "nbformat_minor": 2
}
